{
 "cells": [
  {
   "cell_type": "code",
   "execution_count": 1,
   "metadata": {},
   "outputs": [],
   "source": [
    "import os\n",
    "from dotenv import load_dotenv\n",
    "from PIL import Image\n",
    "from io import BytesIO\n",
    "import base64\n",
    "from langchain_community.vectorstores import DocArrayInMemorySearch\n",
    "from langchain_core.output_parsers import StrOutputParser\n",
    "from langchain_core.prompts import ChatPromptTemplate\n",
    "from langchain_core.runnables import RunnableParallel, RunnablePassthrough\n",
    "from langchain_community.document_loaders import JSONLoader\n",
    "from langchain.vectorstores import Chroma\n",
    "from langchain.embeddings.sentence_transformer import SentenceTransformerEmbeddings\n",
    "from langchain.text_splitter import CharacterTextSplitter\n",
    "from lida import Manager, TextGenerationConfig, llm\n",
    "from langchain_community.document_loaders.csv_loader import CSVLoader\n",
    "from langchain_community.document_loaders import UnstructuredPowerPointLoader\n",
    "from langchain.chat_models import ChatOpenAI\n",
    "import openai\n",
    "\n",
    "load_dotenv()\n",
    "openai.api_key = os.getenv('OPENAI_API_KEY')"
   ]
  },
  {
   "cell_type": "code",
   "execution_count": 2,
   "metadata": {},
   "outputs": [],
   "source": [
    "from lida import Manager, TextGenerationConfig , llm  \n",
    "from dotenv import load_dotenv\n",
    "import os\n",
    "import openai\n",
    "from PIL import Image\n",
    "from io import BytesIO\n",
    "import re \n",
    "import csv\n",
    "import re\n",
    "from pptx import Presentation\n",
    "import base64"
   ]
  },
  {
   "cell_type": "code",
   "execution_count": 3,
   "metadata": {},
   "outputs": [],
   "source": [
    "lida = Manager(text_gen = llm(\"openai\"))\n",
    "textgen_config = TextGenerationConfig(n=1, temperature=0.5, model=\"gpt-3.5-turbo-0301\", use_cache=True)"
   ]
  },
  {
   "cell_type": "code",
   "execution_count": 4,
   "metadata": {},
   "outputs": [],
   "source": [
    "# Function to convert base64 string to image\n",
    "def base64_to_image(base64_string):\n",
    "    # Decode the base64 string\n",
    "    byte_data = base64.b64decode(base64_string)\n",
    "    \n",
    "    # Use BytesIO to convert the byte data to image\n",
    "    return Image.open(BytesIO(byte_data))"
   ]
  },
  {
   "cell_type": "code",
   "execution_count": 5,
   "metadata": {},
   "outputs": [],
   "source": [
    "file_path = \"data/Powerpoint_covid.pptx\""
   ]
  },
  {
   "cell_type": "code",
   "execution_count": 6,
   "metadata": {},
   "outputs": [],
   "source": [
    "from pptx import Presentation\n",
    "import pandas as pd\n",
    "import re\n",
    "\n",
    "def clean_text(text):\n",
    "    \"\"\"Clean text by removing extra spaces and newlines.\"\"\"\n",
    "    return re.sub(r'\\s+', ' ', text).strip()\n",
    "\n",
    "# Load the presentation\n",
    "ppt = Presentation(file_path)\n",
    "\n",
    "# Prepare a list to collect data that will be converted to DataFrame\n",
    "data_for_df = []\n",
    "\n",
    "for slide_number, slide in enumerate(ppt.slides):\n",
    "    for shape in slide.shapes:\n",
    "        if hasattr(shape, \"text\"):\n",
    "            cleaned_text = clean_text(shape.text)\n",
    "            data_for_df.append({\n",
    "                'Slide Number': slide_number + 1,\n",
    "                'Content': cleaned_text,\n",
    "                'Content Type': 'Text'\n",
    "            })\n",
    "        elif shape.has_table:\n",
    "            for row in shape.table.rows:\n",
    "                row_data = ' | '.join([clean_text(cell.text) for cell in row.cells])\n",
    "                data_for_df.append({\n",
    "                    'Slide Number': slide_number + 1,\n",
    "                    'Content': row_data,\n",
    "                    'Content Type': 'Table'\n",
    "                })\n",
    "\n",
    "# Convert list to DataFrame\n",
    "df = pd.DataFrame(data_for_df)\n"
   ]
  },
  {
   "cell_type": "markdown",
   "metadata": {},
   "source": [
    "### Summary Generation"
   ]
  },
  {
   "cell_type": "code",
   "execution_count": 7,
   "metadata": {},
   "outputs": [
    {
     "data": {
      "text/plain": [
       "{'name': '',\n",
       " 'file_name': '',\n",
       " 'dataset_description': '',\n",
       " 'fields': [{'column': 'Slide Number',\n",
       "   'properties': {'dtype': 'int64',\n",
       "    'samples': [1, 18, 16],\n",
       "    'num_unique_values': 21,\n",
       "    'semantic_type': '',\n",
       "    'description': ''}},\n",
       "  {'column': 'Content',\n",
       "   'properties': {'dtype': 'string',\n",
       "    'samples': ['KEY FINDINGS: UNI & BI-VARIABLE ANALYSIS',\n",
       "     '',\n",
       "     'Large | 2539 (0.39%) | 515,152 (16.6%)'],\n",
       "    'num_unique_values': 82,\n",
       "    'semantic_type': '',\n",
       "    'description': ''}},\n",
       "  {'column': 'Content Type',\n",
       "   'properties': {'dtype': 'category',\n",
       "    'samples': ['Table', 'Text'],\n",
       "    'num_unique_values': 2,\n",
       "    'semantic_type': '',\n",
       "    'description': ''}}],\n",
       " 'field_names': ['Slide Number', 'Content', 'Content Type']}"
      ]
     },
     "execution_count": 7,
     "metadata": {},
     "output_type": "execute_result"
    }
   ],
   "source": [
    "#Descriptive analysis\n",
    "\n",
    "summary = lida.summarize(df, summary_method=\"default\", textgen_config=textgen_config)  \n",
    "summary"
   ]
  },
  {
   "cell_type": "code",
   "execution_count": 8,
   "metadata": {},
   "outputs": [
    {
     "data": {
      "text/markdown": [
       "\n",
       "### Goal 0\n",
       "---\n",
       "**Question:** What is the distribution of slide numbers?\n",
       "\n",
       "**Visualization:** `Histogram of Slide Number`\n",
       "\n",
       "**Rationale:** This visualization will show the frequency distribution of slide numbers in the dataset. It will help us understand the range of slide numbers in the dataset and identify any potential outliers or gaps in the data.\n"
      ],
      "text/plain": [
       "Goal(question='What is the distribution of slide numbers?', visualization='Histogram of Slide Number', rationale='This visualization will show the frequency distribution of slide numbers in the dataset. It will help us understand the range of slide numbers in the dataset and identify any potential outliers or gaps in the data.', index=0)"
      ]
     },
     "metadata": {},
     "output_type": "display_data"
    },
    {
     "data": {
      "text/markdown": [
       "\n",
       "### Goal 1\n",
       "---\n",
       "**Question:** What is the most common content type in the dataset?\n",
       "\n",
       "**Visualization:** `Bar chart of Content Type`\n",
       "\n",
       "**Rationale:** This visualization will show the frequency distribution of content types in the dataset. It will help us identify the most common content type and understand the overall composition of the dataset.\n"
      ],
      "text/plain": [
       "Goal(question='What is the most common content type in the dataset?', visualization='Bar chart of Content Type', rationale='This visualization will show the frequency distribution of content types in the dataset. It will help us identify the most common content type and understand the overall composition of the dataset.', index=1)"
      ]
     },
     "metadata": {},
     "output_type": "display_data"
    },
    {
     "data": {
      "text/markdown": [
       "\n",
       "### Goal 2\n",
       "---\n",
       "**Question:** What is the relationship between slide number and content type?\n",
       "\n",
       "**Visualization:** `Scatter plot of Slide Number vs. Content Type`\n",
       "\n",
       "**Rationale:** This visualization will show the relationship between slide number and content type. It will help us identify any patterns or trends in the data and understand if there is any correlation between slide number and content type.\n"
      ],
      "text/plain": [
       "Goal(question='What is the relationship between slide number and content type?', visualization='Scatter plot of Slide Number vs. Content Type', rationale='This visualization will show the relationship between slide number and content type. It will help us identify any patterns or trends in the data and understand if there is any correlation between slide number and content type.', index=2)"
      ]
     },
     "metadata": {},
     "output_type": "display_data"
    },
    {
     "data": {
      "text/markdown": [
       "\n",
       "### Goal 3\n",
       "---\n",
       "**Question:** What are the key findings from the uni and bi-variable analysis?\n",
       "\n",
       "**Visualization:** `Table of Content where Content includes 'KEY FINDINGS'`\n",
       "\n",
       "**Rationale:** This visualization will show the key findings from the uni and bi-variable analysis. It will help us understand the main insights and conclusions from the analysis and identify any important trends or patterns in the data.\n"
      ],
      "text/plain": [
       "Goal(question='What are the key findings from the uni and bi-variable analysis?', visualization=\"Table of Content where Content includes 'KEY FINDINGS'\", rationale='This visualization will show the key findings from the uni and bi-variable analysis. It will help us understand the main insights and conclusions from the analysis and identify any important trends or patterns in the data.', index=3)"
      ]
     },
     "metadata": {},
     "output_type": "display_data"
    }
   ],
   "source": [
    "#Goals/Objectives of the analysis\n",
    "\n",
    "goals = lida.goals(summary, n=4, textgen_config=textgen_config)\n",
    "\n",
    "for goal in goals:\n",
    "    display(goal)"
   ]
  },
  {
   "cell_type": "markdown",
   "metadata": {},
   "source": [
    "### Query / Critique the Document"
   ]
  },
  {
   "cell_type": "code",
   "execution_count": 9,
   "metadata": {},
   "outputs": [],
   "source": [
    "user_query = \"Comment on the data collection methodology employed in the study\""
   ]
  },
  {
   "cell_type": "code",
   "execution_count": 10,
   "metadata": {},
   "outputs": [
    {
     "data": {
      "text/plain": [
       "[Document(page_content='PRESS RELEASE\\n\\nCOVID-19 RAPID SURVEYS \\x0bBUSINESS TRACKER \\x0bHIGHLIGHTS OF FINDINGS\\x0bFIRST EDITION OF WAVE I\\n\\n3 August 2020\\n\\nAugust 3 2020\\n\\n\\n\\nScope\\n\\nMotivation\\n\\nNotes on Methods\\n\\nHighlights of findings\\n\\nUpcoming Activities\\n\\n2\\n\\nAugust 3 2020\\n\\n\\n\\nMotivation  - 1\\\\2\\n\\nCOVID-19 from both a health and non-health perspective has unquestionably affected business operations and performance\\n\\nIn what dimensions have been businesses been affected?\\n\\nSome of which include:\\n\\nDisruptions in labour supply as a result of COVID-19 related morbidity, mortality, self exclusion from work and disarranged telework engagement\\n\\nBusiness closures in view of partial lockdown of Greater Accra and Kumasi\\n\\nSlow down and disturbances in demand of goods and services due to diverse reasons including wider effects of partial lockdown, anxiety among consumers and border closures\\n\\nInterruptions in supply of inputs and access to finance given mobility restrictions, global disturbances\\n\\nTrough in sales and profits\\n\\n3\\n\\nAugust 3 2020\\n\\n\\n\\nMotivation – 2\\\\2\\n\\nWhich type (size and sector) of businesses have been affected and in what ways?\\n\\nDid the effects vary depending background characteristics including ownership structure, location, age, legal status and registration and in what ways?\\n\\nHow did businesses respond?\\n\\nWhat next?\\n\\nRecovery\\n\\nStimulus\\n\\nBenefits\\n\\nReemployment \\n\\nExpectations\\n\\nDesired policies\\n\\nDuration\\n\\nAugust 3 2020\\n\\n4\\n\\n\\n\\nNotes on Methods – 1\\\\3\\n\\nReached out to both non-household and household businesses\\n\\nStratified sample was guided by regional, business and sector of operation representations\\n\\nTarget sample size was 5675 businesses \\n\\nNon-response (decline and unreachable) occasioned a replacement sample of 4248 businesses\\n\\nResponse rate was 76 percent  -  Interviewed 4311 businesses\\n\\nAugust 3 2020\\n\\n5\\n\\n\\n\\nNotes on Methods – 2\\\\3\\n\\nSample drawn from:\\n\\nThe Ghana Business Register(Integrated Business Establishment Survey, 2015), \\n\\nNon-farm establishments from Ghana Living Standards Survey (2017) and \\n\\nNational Board for Small Scale Industries (NBSSI) \\n\\nComputer Assisted Telephone Interviews was used for data collection\\n\\nData collection spanned  the May 26 - June 17 2020\\n\\nPartial lockdown in Greater Accra and Kumasi occurred between March 31 and April 19 2020\\n\\nThe borders have since March 22 2020 been closed\\n\\n6\\n\\nAugust 3 2020\\n\\n\\n\\nNotes on Methods – 3/3\\n\\n Instrument collected information on over 70 analysable variables\\n\\n Context\\n\\nSize of Establishments    Number and Percentage of Establishments    Number and Percentage of Persons Engaged\\nLarge                     2539 (0.39%)                               515,152    (16.6%)\\nMedium                    9333 (1.46%)                               371,743    (12.0%)\\nSmall                     117,329 (18.38%)                           1,219,792 (39.3%)\\nMicro                     509,033 (79.76%)                           996,230    (32.1%)\\nTotal                     638,234 (100.0%)                           3102917   (100.0%)\\n\\nNumber of privates businesses is 523329\\n\\nAugust 3 2020\\n\\n7\\n\\n\\n\\nKEY FINDINGS:\\n\\nUNI & BI-VARIABLE ANALYSIS\\n\\n8\\n\\n\\n\\nBusiness Closures\\n\\nClose to 30,000 businesses have closed down as a result of COVID-19 pandemic and the related responses\\n\\nAbout 85,000 businesses are still closed down as a result of COVID-19 pandemic and the related responses\\n\\nAugust 3 2020\\n\\n9\\n\\n\\n\\nBusiness Closures by Size of Business \\n\\nMore than two-thirds of businesses that were either permanently or temporarily closed were micro-sized firms\\n\\nThe proportion of micro-sized businesses that remained closed post partial lockdown further increased and widened\\n\\nAugust 3 2020\\n\\n10\\n\\n\\n\\nBusiness Closures by Sector\\n\\nAbout a quarter of businesses engaged in the provision of accommodation and food services remain closed down\\n\\nAbout one in every 10 businesses in manufacturing, health-related, retail and wholesale and construction/utilities are still closed down\\n\\n11\\n\\nAugust 3 2020\\n\\n\\n\\nSlow down in demand for goods and services\\n\\nMore than 476,000 businesses experienced a decrease in the demand for their goods and services as a result of COVID-19 and its related responses\\n\\nOnly about 26,000 businesses indicated an increase in their demand for goods and services over the period of the partial lockdown\\n\\n12\\n\\nAugust 3 2020\\n\\n\\n\\nInterruptions in supply of inputs and access to finance\\n\\nAbout 252,000 (51%) of all firms faced difficulties in finding inputs\\n\\nOn the average, close to 131,000 businesses indicated that they had challenges accessing finance with the most being businesses in other services (more than 57,000) and the least are businesses engaged in the agriculture & other industries sector, about 11,000.\\n\\nAugust 3 2020\\n\\n13\\n\\n\\n\\nTrough in Sales (GHC)\\n\\nRelative to March 2019, sales of businesses in March 2020 dropped by 26 percent\\n\\nIn April 2020, sales of businesses was  10 percentage points lower than the year-on-year change in March 2020\\n\\n14\\n\\nAugust 3 2020\\n\\n\\n\\nTrough in Sales (Million GHC) by Sector\\n\\nGains recorded in the manufacturing sub-sector between March and April 2019 were not realised over the same period in 2020\\n\\nAccommodation and Food Sub-sector recorded the highest trough in sales by 57 percent, followed by Trade 35 percent. Other services recorded the least dip of 5 percent\\n\\n15\\n\\nAugust 3 2020\\n\\n\\n\\n\\x0bResponse - Jobs & Wages \\x0b\\n\\n41,952 (1.4%) workers lost their jobs during partial lockdown\\n\\nWorkers in Accommodation and Food sub-sector mostly affected\\n\\n46.1% of business reduced wages for 770,124 (25.7%) workers\\n\\nOther Services sub-sector were mostly affected\\n\\nLaid off workers (%)             Reduced wages (%)\\n                          Firms                   Workers  Firms                Workers\\nBusiness establishments   4.0                     1.4      46.1                 25.7\\nSector\\nManufacturing             4.3                     1.0      54.5                 14.8\\nAgric & Other Industries  5.7                     1.0      39.7                 11.7\\nTrade                     2.3                     1.2      40.5                 28.0\\nAccommodation / Food      6.7                     5.0      33.8                 30.5\\nOther Services            4.4                     1.3      50.1                 36.3\\n\\nAugust 3 2020\\n\\n16\\n\\n\\n\\nResponse - Use of digital solutions\\n\\nLess than 10 percent of businesses adopted or intensified the use of internet for their operations\\n\\nClose to two-fifths of businesses adopted the use of mobile money for business transactions\\n\\n17\\n\\n17\\n\\n\\n\\nExpectations \\n\\nExpectations about sales\\n\\nNo underlying assumption -  both sales and employment will respectively decrease by one percent and five percent in the next three months\\n\\nOn the assumption that the outturn will be worse in the next three months, sales will drop by 24 percent and employment 15 percent\\n\\nIn the event, where the effects of COVID-19 subsides in the next three months, businesses expect sales to increase by 25 percent and employment 4 percent.\\n\\nExpectations about employment \\n\\n18\\n\\n18\\n\\n\\n\\n         Desired Policies\\n\\nTop 3 policies firms desire \\n\\nLoans with subsidized interest rates (61%)\\n\\nCash transfer (32%)\\n\\nDeferral of rent payment (21%). \\n\\n19\\n\\n\\n\\nHighlights\\n\\nCOVID-19 pandemic and the related responses compelled about 115,000 businesses to either permanently or temporarily close down\\n\\nSales of businesses reduced by 26 percent between March 2019 and March 2020 and by 36 percent between April 2019 and April 2020\\n\\nAccommodation and Food sub -sector recorded the highest dip of 57 percent\\n\\nMore than 45, 000 workers lost their jobs during partial lockdown. Workers in Accommodation and food sector were mostly affected\\n\\nMore than 770,000 workers of businesses had their wages reduced \\n\\nLess than 10 percent of businesses adopted or intensified the use of internet for their operations\\n\\nOn the average, close to 131,000 businesses indicated that they had challenges accessing finance\\n\\nMore than 60 percent of firms are calling for subsidized interest rates \\n\\n20\\n\\nAugust 3 2020\\n\\n\\n\\nUpcoming Activities\\n\\nInstitutionalised regular releases for at least the next six months\\n\\nDetermine factors that lessen or heighten the effects of COVID-19 and related responses on sales and employment of businesses\\n\\nAssess the variation of sales and employment across geographical areas and other background characteristics\\n\\nEstimate the net impact of COVID-19 on performances of businesses\\n\\nExamine the effectiveness of the innovative coping strategies of businesses\\n\\nAnalyse the responsiveness of Government’s interventions\\n\\nWave II of this survey to be conducted in August 2020 \\n\\n21\\n\\n21', metadata={'source': 'data/Powerpoint_covid.pptx'})]"
      ]
     },
     "execution_count": 10,
     "metadata": {},
     "output_type": "execute_result"
    }
   ],
   "source": [
    "loader = UnstructuredPowerPointLoader(file_path)\n",
    "docs = loader.load()\n",
    "docs"
   ]
  },
  {
   "cell_type": "code",
   "execution_count": 12,
   "metadata": {},
   "outputs": [
    {
     "name": "stderr",
     "output_type": "stream",
     "text": [
      "c:\\Users\\srede\\OneDrive\\Desktop\\Projex\\file_mangt_sys\\venv\\Lib\\site-packages\\langchain_core\\_api\\deprecation.py:119: LangChainDeprecationWarning: The class `HuggingFaceEmbeddings` was deprecated in LangChain 0.2.2 and will be removed in 0.3.0. An updated version of the class exists in the langchain-huggingface package and should be used instead. To use it run `pip install -U langchain-huggingface` and import as `from langchain_huggingface import HuggingFaceEmbeddings`.\n",
      "  warn_deprecated(\n",
      "c:\\Users\\srede\\OneDrive\\Desktop\\Projex\\file_mangt_sys\\venv\\Lib\\site-packages\\sentence_transformers\\cross_encoder\\CrossEncoder.py:11: TqdmWarning: IProgress not found. Please update jupyter and ipywidgets. See https://ipywidgets.readthedocs.io/en/stable/user_install.html\n",
      "  from tqdm.autonotebook import tqdm, trange\n",
      "c:\\Users\\srede\\OneDrive\\Desktop\\Projex\\file_mangt_sys\\venv\\Lib\\site-packages\\huggingface_hub\\file_download.py:1132: FutureWarning: `resume_download` is deprecated and will be removed in version 1.0.0. Downloads always resume when possible. If you want to force a new download, use `force_download=True`.\n",
      "  warnings.warn(\n",
      "c:\\Users\\srede\\OneDrive\\Desktop\\Projex\\file_mangt_sys\\venv\\Lib\\site-packages\\langchain_core\\_api\\deprecation.py:119: LangChainDeprecationWarning: Since Chroma 0.4.x the manual persistence method is no longer supported as docs are automatically persisted.\n",
      "  warn_deprecated(\n"
     ]
    }
   ],
   "source": [
    "# split it into chunks\n",
    "text_splitter = CharacterTextSplitter(chunk_size=1000, chunk_overlap=5)\n",
    "docs = text_splitter.split_documents(docs)\n",
    "\n",
    "# create the open-source embedding function\n",
    "embedding_function = SentenceTransformerEmbeddings(model_name=\"all-MiniLM-L6-v2\")\n",
    "\n",
    "# load it into Chroma with a persistent directory\n",
    "db = Chroma.from_documents(docs, embedding_function, ids=None, collection_name=\"langchain-pptx\", persist_directory=\"./chroma_db/pptx\")\n",
    "db.persist()"
   ]
  },
  {
   "cell_type": "code",
   "execution_count": 11,
   "metadata": {},
   "outputs": [
    {
     "name": "stderr",
     "output_type": "stream",
     "text": [
      "c:\\Users\\srede\\OneDrive\\Desktop\\Projex\\file_mangt_sys\\venv\\Lib\\site-packages\\langchain_core\\_api\\deprecation.py:119: LangChainDeprecationWarning: The class `ChatOpenAI` was deprecated in LangChain 0.0.10 and will be removed in 0.3.0. An updated version of the class exists in the langchain-openai package and should be used instead. To use it run `pip install -U langchain-openai` and import as `from langchain_openai import ChatOpenAI`.\n",
      "  warn_deprecated(\n"
     ]
    }
   ],
   "source": [
    "llm = ChatOpenAI(model_name=\"gpt-3.5-turbo\", temperature=0.2)"
   ]
  },
  {
   "cell_type": "code",
   "execution_count": 17,
   "metadata": {},
   "outputs": [],
   "source": [
    "retriever=db.as_retriever()"
   ]
  },
  {
   "cell_type": "code",
   "execution_count": 18,
   "metadata": {},
   "outputs": [],
   "source": [
    "def format_docs(docs):\n",
    "    return \"\\n\\n\".join(doc.page_content for doc in docs)\n"
   ]
  },
  {
   "cell_type": "code",
   "execution_count": 19,
   "metadata": {},
   "outputs": [
    {
     "ename": "NameError",
     "evalue": "name 'user_query' is not defined",
     "output_type": "error",
     "traceback": [
      "\u001b[1;31m---------------------------------------------------------------------------\u001b[0m",
      "\u001b[1;31mNameError\u001b[0m                                 Traceback (most recent call last)",
      "Cell \u001b[1;32mIn[19], line 27\u001b[0m\n\u001b[0;32m     18\u001b[0m custom_rag_prompt \u001b[38;5;241m=\u001b[39m PromptTemplate\u001b[38;5;241m.\u001b[39mfrom_template(template)\n\u001b[0;32m     20\u001b[0m rag_chain \u001b[38;5;241m=\u001b[39m (\n\u001b[0;32m     21\u001b[0m     {\u001b[38;5;124m\"\u001b[39m\u001b[38;5;124mcontext\u001b[39m\u001b[38;5;124m\"\u001b[39m: retriever \u001b[38;5;241m|\u001b[39m format_docs, \u001b[38;5;124m\"\u001b[39m\u001b[38;5;124mquestion\u001b[39m\u001b[38;5;124m\"\u001b[39m: RunnablePassthrough()}\n\u001b[0;32m     22\u001b[0m     \u001b[38;5;241m|\u001b[39m custom_rag_prompt\n\u001b[0;32m     23\u001b[0m     \u001b[38;5;241m|\u001b[39m llm\n\u001b[0;32m     24\u001b[0m     \u001b[38;5;241m|\u001b[39m StrOutputParser()\n\u001b[0;32m     25\u001b[0m )\n\u001b[1;32m---> 27\u001b[0m result \u001b[38;5;241m=\u001b[39m rag_chain\u001b[38;5;241m.\u001b[39minvoke(\u001b[43muser_query\u001b[49m)\n",
      "\u001b[1;31mNameError\u001b[0m: name 'user_query' is not defined"
     ]
    }
   ],
   "source": [
    "from langchain_core.prompts import PromptTemplate\n",
    "\n",
    "template = \"\"\"Use the following pieces of context to answer the question at the end.\n",
    "If you don't know the answer, just say that you don't know, don't try to make up an answer.\n",
    "Always say \"thanks for asking!\" at the end of the answer.\n",
    "You are a helpful data analyst that can help answer question about data.\n",
    "You critically analyze the data and provide insights into the data.\n",
    "You answer only questions from the data. You don't answer generic questions outside the document.\n",
    "You provide the answer in a bullet point format. You use chain of thought to answer questions.\n",
    "You make relevant recommendations based on the data. You don't summarize. \n",
    "You quote the figures as they are\n",
    "\n",
    "{context}\n",
    "\n",
    "Question: {question}\n",
    "\n",
    "Helpful Answer:\"\"\"\n",
    "custom_rag_prompt = PromptTemplate.from_template(template)\n",
    "\n",
    "rag_chain = (\n",
    "    {\"context\": retriever | format_docs, \"question\": RunnablePassthrough()}\n",
    "    | custom_rag_prompt\n",
    "    | llm\n",
    "    | StrOutputParser()\n",
    ")\n",
    "\n",
    "result = rag_chain.invoke(user_query)"
   ]
  },
  {
   "cell_type": "code",
   "execution_count": null,
   "metadata": {},
   "outputs": [],
   "source": [
    "from IPython.display import Markdown\n",
    "# Display the result in a more readable Markdown format\n",
    "display(Markdown(result))"
   ]
  }
 ],
 "metadata": {
  "kernelspec": {
   "display_name": "venv",
   "language": "python",
   "name": "python3"
  },
  "language_info": {
   "codemirror_mode": {
    "name": "ipython",
    "version": 3
   },
   "file_extension": ".py",
   "mimetype": "text/x-python",
   "name": "python",
   "nbconvert_exporter": "python",
   "pygments_lexer": "ipython3",
   "version": "3.12.2"
  }
 },
 "nbformat": 4,
 "nbformat_minor": 2
}
