{
 "cells": [
  {
   "cell_type": "code",
   "execution_count": 56,
   "metadata": {},
   "outputs": [],
   "source": [
    "import os\n",
    "from dotenv import load_dotenv\n",
    "from PIL import Image\n",
    "from io import BytesIO\n",
    "import base64\n",
    "from langchain_community.vectorstores import DocArrayInMemorySearch\n",
    "from langchain_core.output_parsers import StrOutputParser\n",
    "from langchain_core.prompts import ChatPromptTemplate\n",
    "from langchain_core.runnables import RunnableParallel, RunnablePassthrough\n",
    "from langchain_community.document_loaders import JSONLoader\n",
    "from langchain.vectorstores import Chroma\n",
    "from langchain.embeddings.sentence_transformer import SentenceTransformerEmbeddings\n",
    "from langchain.text_splitter import CharacterTextSplitter\n",
    "from lida import Manager, TextGenerationConfig, llm\n",
    "from langchain_community.document_loaders.csv_loader import CSVLoader\n",
    "from langchain.chat_models import ChatOpenAI\n",
    "from langchain_community.document_loaders import UnstructuredFileLoader\n",
    "import openai\n",
    "\n",
    "load_dotenv()\n",
    "openai.api_key = os.getenv('OPENAI_API_KEY')"
   ]
  },
  {
   "cell_type": "code",
   "execution_count": 2,
   "metadata": {},
   "outputs": [],
   "source": [
    "# Function to convert base64 string to image\n",
    "def base64_to_image(base64_string):\n",
    "    # Decode the base64 string\n",
    "    byte_data = base64.b64decode(base64_string)\n",
    "    \n",
    "    # Use BytesIO to convert the byte data to image\n",
    "    return Image.open(BytesIO(byte_data))"
   ]
  },
  {
   "cell_type": "code",
   "execution_count": 35,
   "metadata": {},
   "outputs": [],
   "source": [
    "lida = Manager(text_gen = llm(\"openai\"))\n",
    "textgen_config = TextGenerationConfig(n=1, temperature=0.5, model=\"gpt-3.5-turbo-16k-0613\", use_cache=True)"
   ]
  },
  {
   "cell_type": "code",
   "execution_count": 38,
   "metadata": {},
   "outputs": [],
   "source": [
    "file_path = \"data/Amazon-2021-Annual-Report.pdf\""
   ]
  },
  {
   "cell_type": "markdown",
   "metadata": {},
   "source": [
    "###  Summary  Generation"
   ]
  },
  {
   "cell_type": "code",
   "execution_count": 39,
   "metadata": {},
   "outputs": [],
   "source": [
    "#Descriptive Analysis\n",
    "import pdfplumber\n",
    "import pandas as pd\n",
    "\n",
    "pdf_path = file_path\n",
    "data = {'pages': []}\n",
    "\n",
    "with pdfplumber.open(pdf_path) as pdf:\n",
    "    for i, page in enumerate(pdf.pages):\n",
    "        text = page.extract_text()\n",
    "        if text:\n",
    "            text = text.replace(u'\\xa0', u' ')\n",
    "            text = text.encode('utf-8', 'replace').decode('utf-8')\n",
    "        data['pages'].append({\n",
    "            'page_number': i + 1,\n",
    "            'content': text\n",
    "        })\n",
    "    \n",
    "\n",
    "\n",
    "# Assuming 'data' is already loaded as shown earlier\n",
    "df = pd.json_normalize(data['pages'])\n",
    "\n",
    "# Try summarizing using the DataFrame\n",
    "summary = lida.summarize(df)\n"
   ]
  },
  {
   "cell_type": "code",
   "execution_count": 40,
   "metadata": {},
   "outputs": [
    {
     "data": {
      "text/plain": [
       "{'name': '',\n",
       " 'file_name': '',\n",
       " 'dataset_description': '',\n",
       " 'fields': [{'column': 'page_number',\n",
       "   'properties': {'dtype': 'int64',\n",
       "    'samples': [76, 1, 71],\n",
       "    'num_unique_values': 86,\n",
       "    'semantic_type': '',\n",
       "    'description': ''}},\n",
       "  {'column': 'content',\n",
       "   'properties': {'dtype': 'string',\n",
       "    'samples': ['Net sales are attributed to countries primarily based on country-focused online and physical stores or, for AWS purposes,\\nthe selling entity. Net sales attributed to countries that represent a significant portion of consolidated net sales are as follows (in\\nmillions):\\nYear Ended December 31,\\n2019 2020 2021\\nUnited States $ 193,636 $ 263,520 $ 314,006\\nGermany 22,232 29,565 37,326\\nUnited Kingdom 17,527 26,483 31,914\\nJapan 16,002 20,461 23,071\\nRest of world 31,125 46,035 63,505\\nConsolidated $ 280,522 $ 386,064 $ 469,822\\nTotal segment assets exclude corporate assets, such as cash and cash equivalents, marketable securities, other long-term\\ninvestments, corporate facilities, goodwill and other acquired intangible assets, and tax assets. Technology infrastructure assets\\nare allocated among the segments based on usage, with the majority allocated to the AWS segment. Total segment assets\\nreconciled to consolidated amounts are as follows (in millions):\\nDecember 31,\\n2019 2020 2021\\nNorth America (1) $ 72,277 $ 108,405 $ 161,255\\nInternational (1) 30,709 42,212 57,983\\nAWS (2) 36,500 47,574 63,835\\nCorporate 85,762 123,004 137,476\\nConsolidated $ 225,248 $ 321,195 $ 420,549\\n___________________\\n(1) North America and International segment assets primarily consist of property and equipment, operating leases, inventory,\\nand accounts receivable.\\n(2) AWS segment assets primarily consist of property and equipment and accounts receivable.\\nProperty and equipment, net by segment is as follows (in millions):\\nDecember 31,\\n2019 2020 2021\\nNorth America $ 31,719 $ 54,912 $ 83,640\\nInternational 9,566 15,375 21,718\\nAWS 23,481 32,151 43,245\\nCorporate 7,939 10,676 11,678\\nConsolidated $ 72,705 $ 113,114 $ 160,281\\nTotal net additions to property and equipment by segment are as follows (in millions):\\nYear Ended December 31,\\n2019 2020 2021\\nNorth America (1) $ 11,752 $ 29,889 $ 37,397\\nInternational (1) 3,298 8,072 10,259\\nAWS (2) 13,058 16,530 22,047\\nCorporate 1,910 3,485 2,622\\nConsolidated $ 30,018 $ 57,976 $ 72,325\\n___________________\\n(1) Includes property and equipment added under finance leases of $3.8 billion, $5.6 billion, and $3.6 billion in 2019, 2020,\\nand 2021, and under build-to-suit lease arrangementsof $1.3 billion, $2.7 billion, and $5.6 billion in 2019, 2020, and 2021.\\n(2) Includes property and equipment added under finance leases of $10.6 billion, $7.7 billion, and $3.5 billion in 2019, 2020,\\nand 2021, and under build-to-suit lease arrangementsof $0 million, $130 million, and $51 million in 2019, 2020, and 2021.\\n66',\n",
       "     '2 0 21\\nA N N U A L R E P O R T',\n",
       "     'Common Stock Available for Future Issuance\\nAs of December 31, 2021, common stock available for future issuance to employees is 97 million shares.\\nNote 9 — INCOME TAXES\\nIn 2019, 2020, and 2021, we recorded net tax provisions of $2.4 billion, $2.9 billion, and $4.8 billion. Tax benefits\\nrelating to excess stock-based compensation deductions and accelerated depreciation deductions are reducing our U.S. taxable\\nincome. Cash taxes paid, net of refunds, were$881 million, $1.7 billion, and$3.7 billionfor 2019, 2020, and 2021.\\nCertain foreign subsidiary earnings and losses are subject to current U.S. taxation and the subsequent repatriation of those\\nearnings is not subject to tax in the U.S. The U.S. tax rules also provide for enhanced accelerated depreciation deductions by\\nallowing the election of full expensing of qualified property, primarily equipment, through 2022. Our federal tax provision\\nincluded the election of full expensing of qualified property for 2019 and a partial election for 2020 and 2021.\\nThe components of the provision for income taxes, net are as follows (in millions):\\nYear Ended December 31,\\n2019 2020 2021\\nU.S. Federal:\\nCurrent $ 162 $ 1,835 $ 2,129\\nDeferred 914 (151) 155\\nTotal 1,076 1,684 2,284\\nU.S. State:\\nCurrent 276 626 763\\nDeferred 8 (190) (178)\\nTotal 284 436 585\\nInternational:\\nCurrent 1,140 956 2,209\\nDeferred (126) (213) (287)\\nTotal 1,014 743 1,922\\nProvision for income taxes, net $ 2,374 $ 2,863 $ 4,791\\nU.S. and international components of income before income taxes are as follows (in millions):\\nYear Ended December 31,\\n2019 2020 2021\\nU.S. $ 13,285 $ 20,219 $ 35,879\\nInternational 691 3,959 2,272\\nIncome before income taxes $ 13,976 $ 24,178 $ 38,151\\n61'],\n",
       "    'num_unique_values': 86,\n",
       "    'semantic_type': '',\n",
       "    'description': ''}}],\n",
       " 'field_names': ['page_number', 'content']}"
      ]
     },
     "execution_count": 40,
     "metadata": {},
     "output_type": "execute_result"
    }
   ],
   "source": [
    "summary"
   ]
  },
  {
   "cell_type": "code",
   "execution_count": 41,
   "metadata": {},
   "outputs": [
    {
     "data": {
      "text/markdown": [
       "\n",
       "### Goal 0\n",
       "---\n",
       "**Question:** What is the trend in net sales for the United States, Germany, United Kingdom, Japan, and Rest of world from 2019 to 2021?\n",
       "\n",
       "**Visualization:** `Line chart showing the net sales for each country over time`\n",
       "\n",
       "**Rationale:** By visualizing the net sales for each country over time, we can identify the trends and growth rates in different regions.\n"
      ],
      "text/plain": [
       "Goal(question='What is the trend in net sales for the United States, Germany, United Kingdom, Japan, and Rest of world from 2019 to 2021?', visualization='Line chart showing the net sales for each country over time', rationale='By visualizing the net sales for each country over time, we can identify the trends and growth rates in different regions.', index=0)"
      ]
     },
     "metadata": {},
     "output_type": "display_data"
    },
    {
     "data": {
      "text/markdown": [
       "\n",
       "### Goal 1\n",
       "---\n",
       "**Question:** How do the total segment assets compare between North America, International, AWS, and Corporate in 2019, 2020, and 2021?\n",
       "\n",
       "**Visualization:** `Stacked bar chart comparing the total segment assets for each category over time`\n",
       "\n",
       "**Rationale:** A stacked bar chart will allow us to compare the total segment assets for each category over time and identify any changes in their proportions.\n"
      ],
      "text/plain": [
       "Goal(question='How do the total segment assets compare between North America, International, AWS, and Corporate in 2019, 2020, and 2021?', visualization='Stacked bar chart comparing the total segment assets for each category over time', rationale='A stacked bar chart will allow us to compare the total segment assets for each category over time and identify any changes in their proportions.', index=1)"
      ]
     },
     "metadata": {},
     "output_type": "display_data"
    },
    {
     "data": {
      "text/markdown": [
       "\n",
       "### Goal 2\n",
       "---\n",
       "**Question:** What is the distribution of property and equipment net by segment in 2021?\n",
       "\n",
       "**Visualization:** `Bar chart showing the property and equipment net for each segment in 2021`\n",
       "\n",
       "**Rationale:** A bar chart will provide a clear comparison of the property and equipment net for each segment in 2021 and help identify any significant differences.\n"
      ],
      "text/plain": [
       "Goal(question='What is the distribution of property and equipment net by segment in 2021?', visualization='Bar chart showing the property and equipment net for each segment in 2021', rationale='A bar chart will provide a clear comparison of the property and equipment net for each segment in 2021 and help identify any significant differences.', index=2)"
      ]
     },
     "metadata": {},
     "output_type": "display_data"
    },
    {
     "data": {
      "text/markdown": [
       "\n",
       "### Goal 3\n",
       "---\n",
       "**Question:** How do the total net additions to property and equipment compare between North America, International, AWS, and Corporate from 2019 to 2021?\n",
       "\n",
       "**Visualization:** `Line chart showing the total net additions to property and equipment for each category over time`\n",
       "\n",
       "**Rationale:** By visualizing the total net additions to property and equipment for each category over time, we can identify the trends and growth rates in different regions.\n"
      ],
      "text/plain": [
       "Goal(question='How do the total net additions to property and equipment compare between North America, International, AWS, and Corporate from 2019 to 2021?', visualization='Line chart showing the total net additions to property and equipment for each category over time', rationale='By visualizing the total net additions to property and equipment for each category over time, we can identify the trends and growth rates in different regions.', index=3)"
      ]
     },
     "metadata": {},
     "output_type": "display_data"
    }
   ],
   "source": [
    "#Goals/Objectives of the analysis\n",
    "\n",
    "goals = lida.goals(summary, n=4, textgen_config=textgen_config)\n",
    "\n",
    "for goal in goals:\n",
    "    display(goal)"
   ]
  },
  {
   "cell_type": "markdown",
   "metadata": {},
   "source": [
    "### Data Visualization"
   ]
  },
  {
   "cell_type": "code",
   "execution_count": 48,
   "metadata": {},
   "outputs": [
    {
     "name": "stdout",
     "output_type": "stream",
     "text": [
      "```python\n",
      "import matplotlib.pyplot as plt\n",
      "import pandas as pd\n",
      "\n",
      "# plan -\n",
      "def plot(data: pd.DataFrame):\n",
      "    # Filter the data for the required countries\n",
      "    countries = ['United States', 'Germany', 'United Kingdom', 'Japan', 'Rest of world']\n",
      "    filtered_data = data[data['content'].str.contains('|'.join(countries))]\n",
      "    \n",
      "    # Extract the year and net sales columns\n",
      "    filtered_data['year'] = filtered_data['content'].str.extract(r'(\\d{4})')\n",
      "    filtered_data['net_sales'] = filtered_data['content'].str.extract(r'\\$ (\\d+,\\d+,\\d+)')\n",
      "    filtered_data['net_sales'] = filtered_data['net_sales'].str.replace(',', '').astype(int)\n",
      "    \n",
      "    # Group the data by country and year and calculate the sum of net sales\n",
      "    grouped_data = filtered_data.groupby(['year', 'content']).sum().reset_index()\n",
      "    \n",
      "    # Pivot the data to have years as columns and countries as rows\n",
      "    pivoted_data = grouped_data.pivot(index='content', columns='year', values='net_sales')\n",
      "    \n",
      "    # Plot the line chart\n",
      "    pivoted_data.plot(kind='line', marker='o')\n",
      "    \n",
      "    # Add labels and legend\n",
      "    plt.xlabel('Year')\n",
      "    plt.ylabel('Net Sales')\n",
      "    plt.legend(title='Country')\n",
      "    \n",
      "    plt.title('What is the trend in net sales for the United States, Germany, United Kingdom, Japan, and Rest of world from 2019 to 2021?', wrap=True)\n",
      "    \n",
      "    return plt\n",
      "\n",
      "chart = plot(data) # data already contains the data to be plotted. Always include this line. No additional code beyond this line.\n",
      "```\n",
      "****\n",
      " cannot convert float NaN to integer\n"
     ]
    },
    {
     "name": "stderr",
     "output_type": "stream",
     "text": [
      "<string>:11: SettingWithCopyWarning: \n",
      "A value is trying to be set on a copy of a slice from a DataFrame.\n",
      "Try using .loc[row_indexer,col_indexer] = value instead\n",
      "\n",
      "See the caveats in the documentation: https://pandas.pydata.org/pandas-docs/stable/user_guide/indexing.html#returning-a-view-versus-a-copy\n",
      "<string>:12: SettingWithCopyWarning: \n",
      "A value is trying to be set on a copy of a slice from a DataFrame.\n",
      "Try using .loc[row_indexer,col_indexer] = value instead\n",
      "\n",
      "See the caveats in the documentation: https://pandas.pydata.org/pandas-docs/stable/user_guide/indexing.html#returning-a-view-versus-a-copy\n"
     ]
    }
   ],
   "source": [
    "charts = lida.visualize(summary=summary, goal=goals[0], library=\"matplotlib\")\n"
   ]
  },
  {
   "cell_type": "code",
   "execution_count": 44,
   "metadata": {},
   "outputs": [
    {
     "name": "stderr",
     "output_type": "stream",
     "text": [
      "<string>:11: SettingWithCopyWarning: \n",
      "A value is trying to be set on a copy of a slice from a DataFrame.\n",
      "Try using .loc[row_indexer,col_indexer] = value instead\n",
      "\n",
      "See the caveats in the documentation: https://pandas.pydata.org/pandas-docs/stable/user_guide/indexing.html#returning-a-view-versus-a-copy\n",
      "<string>:12: SettingWithCopyWarning: \n",
      "A value is trying to be set on a copy of a slice from a DataFrame.\n",
      "Try using .loc[row_indexer,col_indexer] = value instead\n",
      "\n",
      "See the caveats in the documentation: https://pandas.pydata.org/pandas-docs/stable/user_guide/indexing.html#returning-a-view-versus-a-copy\n"
     ]
    },
    {
     "name": "stdout",
     "output_type": "stream",
     "text": [
      "```python\n",
      "import matplotlib.pyplot as plt\n",
      "import pandas as pd\n",
      "\n",
      "# plan -\n",
      "def plot(data: pd.DataFrame):\n",
      "    # Filter the data for the required countries\n",
      "    countries = ['United States', 'Germany', 'United Kingdom', 'Japan', 'Rest of world']\n",
      "    filtered_data = data[data['content'].str.contains('|'.join(countries))]\n",
      "    \n",
      "    # Extract the year and net sales columns\n",
      "    filtered_data['year'] = filtered_data['content'].str.extract(r'(\\d{4})')\n",
      "    filtered_data['net_sales'] = filtered_data['content'].str.extract(r'\\$ (\\d+,\\d+,\\d+)')\n",
      "    filtered_data['net_sales'] = filtered_data['net_sales'].str.replace(',', '').astype(int)\n",
      "    \n",
      "    # Group the data by country and year and calculate the sum of net sales\n",
      "    grouped_data = filtered_data.groupby(['year', 'content']).sum().reset_index()\n",
      "    \n",
      "    # Pivot the data to have years as columns and countries as rows\n",
      "    pivoted_data = grouped_data.pivot(index='content', columns='year', values='net_sales')\n",
      "    \n",
      "    # Plot the line chart\n",
      "    pivoted_data.plot(kind='line', marker='o')\n",
      "    \n",
      "    # Add labels and legend\n",
      "    plt.xlabel('Year')\n",
      "    plt.ylabel('Net Sales')\n",
      "    plt.legend(title='Country')\n",
      "    \n",
      "    plt.title('What is the trend in net sales for the United States, Germany, United Kingdom, Japan, and Rest of world from 2019 to 2021?', wrap=True)\n",
      "    \n",
      "    return plt\n",
      "\n",
      "chart = plot(data) # data already contains the data to be plotted. Always include this line. No additional code beyond this line.\n",
      "```\n",
      "****\n",
      " cannot convert float NaN to integer\n",
      "```python\n",
      "import matplotlib.pyplot as plt\n",
      "import pandas as pd\n",
      "\n",
      "# plan -\n",
      "def plot(data: pd.DataFrame):\n",
      "    # Filter the data for the required years\n",
      "    filtered_data = data[data['page_number'].isin(['2019', '2020', '2021'])]\n",
      "\n",
      "    # Group the data by segment and sum the total segment assets\n",
      "    grouped_data = filtered_data.groupby('segment')['total_segment_assets'].sum()\n",
      "\n",
      "    # Create a stacked bar chart\n",
      "    plt.bar(grouped_data.index, grouped_data.values)\n",
      "\n",
      "    # Add labels and title\n",
      "    plt.xlabel('Segment')\n",
      "    plt.ylabel('Total Segment Assets')\n",
      "    plt.title('How do the total segment assets compare between North America, International, AWS, and Corporate in 2019, 2020, and 2021?', wrap=True)\n",
      "\n",
      "    return plt\n",
      "\n",
      "chart = plot(data) # data already contains the data to be plotted. Always include this line. No additional code beyond this line.\n",
      "```\n",
      "****\n",
      " 'segment'\n",
      "```python\n",
      "import matplotlib.pyplot as plt\n",
      "import pandas as pd\n",
      "\n",
      "# plan -\n",
      "def plot(data: pd.DataFrame):\n",
      "    # Filter the data for the year 2021\n",
      "    data_2021 = data[data['content'].str.contains('2021')]\n",
      "\n",
      "    # Extract the property and equipment net values for each segment\n",
      "    property_equipment_net = data_2021['content'].str.extract(r'(\\w+)\\s+(\\d+,\\d+,\\d+)')\n",
      "\n",
      "    # Convert the property and equipment net values to numeric\n",
      "    property_equipment_net[1] = property_equipment_net[1].str.replace(',', '').astype(int)\n",
      "\n",
      "    # Set the segment names as the index\n",
      "    property_equipment_net.set_index(0, inplace=True)\n",
      "\n",
      "    # Plot the bar chart\n",
      "    property_equipment_net.plot(kind='bar', legend=False)\n",
      "    plt.xlabel('Segment')\n",
      "    plt.ylabel('Property and Equipment Net')\n",
      "    plt.title('Distribution of Property and Equipment Net by Segment in 2021')\n",
      "\n",
      "    return plt\n",
      "\n",
      "chart = plot(data) # data already contains the data to be plotted. Always include this line. No additional code beyond this line.\n",
      "```\n",
      "****\n",
      " cannot convert float NaN to integer\n",
      "```python\n",
      "import matplotlib.pyplot as plt\n",
      "import pandas as pd\n",
      "\n",
      "# plan -\n",
      "def plot(data: pd.DataFrame):\n",
      "    # Convert date fields to datetime type\n",
      "    data['page_number'] = pd.to_datetime(data['page_number'], errors='coerce')\n",
      "    data = data[pd.notna(data['page_number'])]\n",
      "    \n",
      "    # Filter data for the desired years\n",
      "    data = data[data['page_number'].dt.year.isin([2019, 2020, 2021])]\n",
      "    \n",
      "    # Group data by category and calculate the sum of net additions\n",
      "    grouped_data = data.groupby('content').sum()['page_number']\n",
      "    \n",
      "    # Plot the data\n",
      "    plt.plot(grouped_data.index, grouped_data.values, marker='o')\n",
      "    \n",
      "    # Add labels and title\n",
      "    plt.xlabel('Category')\n",
      "    plt.ylabel('Total Net Additions')\n",
      "    plt.title('How do the total net additions to property and equipment compare between North America, International, AWS, and Corporate from 2019 to 2021?', wrap=True)\n",
      "    \n",
      "    # Rotate x-axis labels for better readability\n",
      "    plt.xticks(rotation=45)\n",
      "    \n",
      "    return plt\n",
      "\n",
      "chart = plot(data)\n",
      "```\n",
      "****\n",
      " datetime64 type does not support sum operations\n"
     ]
    },
    {
     "data": {
      "text/plain": [
       "4"
      ]
     },
     "execution_count": 44,
     "metadata": {},
     "output_type": "execute_result"
    }
   ],
   "source": [
    "for goal in goals:\n",
    "    charts = lida.visualize(summary=summary, goal=goal, library=\"matplotlib\")\n",
    "\n",
    "len(goals)"
   ]
  },
  {
   "cell_type": "markdown",
   "metadata": {},
   "source": [
    "### Visualize Based On User Query"
   ]
  },
  {
   "cell_type": "code",
   "execution_count": 45,
   "metadata": {},
   "outputs": [],
   "source": [
    "user_query = \"What's the distribution of sales by country?\""
   ]
  },
  {
   "cell_type": "code",
   "execution_count": 52,
   "metadata": {},
   "outputs": [
    {
     "name": "stdout",
     "output_type": "stream",
     "text": [
      "```python\n",
      "import matplotlib.pyplot as plt\n",
      "import pandas as pd\n",
      "\n",
      "# plan -\n",
      "def plot(data: pd.DataFrame):\n",
      "    # Group the data by country and calculate the sum of net sales\n",
      "    sales_by_country = data.groupby('country')['net_sales'].sum().reset_index()\n",
      "\n",
      "    # Sort the data by net sales in descending order\n",
      "    sales_by_country = sales_by_country.sort_values('net_sales', ascending=False)\n",
      "\n",
      "    # Create a bar plot to visualize the distribution of sales by country\n",
      "    plt.bar(sales_by_country['country'], sales_by_country['net_sales'])\n",
      "\n",
      "    # Add labels and title\n",
      "    plt.xlabel('Country')\n",
      "    plt.ylabel('Net Sales')\n",
      "    plt.title('Distribution of Sales by Country')\n",
      "\n",
      "    # Rotate x-axis labels for better readability\n",
      "    plt.xticks(rotation=45)\n",
      "\n",
      "    return plt\n",
      "\n",
      "chart = plot(data)\n",
      "```\n",
      "****\n",
      " 'country'\n"
     ]
    }
   ],
   "source": [
    "charts = lida.visualize(summary=summary, goal=user_query, library=\"matplotlib\")"
   ]
  },
  {
   "cell_type": "markdown",
   "metadata": {},
   "source": [
    "###  Critize the document"
   ]
  },
  {
   "cell_type": "code",
   "execution_count": 53,
   "metadata": {},
   "outputs": [],
   "source": [
    "user_query = \"Provide a brief forecast for the new year based on the data given?\""
   ]
  },
  {
   "cell_type": "code",
   "execution_count": 65,
   "metadata": {},
   "outputs": [],
   "source": [
    "from langchain_community.document_loaders import PyMuPDFLoader"
   ]
  },
  {
   "cell_type": "code",
   "execution_count": 67,
   "metadata": {},
   "outputs": [],
   "source": [
    "loader = PyMuPDFLoader(file_path)\n",
    "docs = loader.load()"
   ]
  },
  {
   "cell_type": "code",
   "execution_count": 68,
   "metadata": {},
   "outputs": [
    {
     "name": "stderr",
     "output_type": "stream",
     "text": [
      "c:\\Users\\srede\\OneDrive\\Desktop\\Projex\\file_mangt_sys\\venv\\Lib\\site-packages\\huggingface_hub\\file_download.py:1132: FutureWarning: `resume_download` is deprecated and will be removed in version 1.0.0. Downloads always resume when possible. If you want to force a new download, use `force_download=True`.\n",
      "  warnings.warn(\n",
      "c:\\Users\\srede\\OneDrive\\Desktop\\Projex\\file_mangt_sys\\venv\\Lib\\site-packages\\langchain_core\\_api\\deprecation.py:119: LangChainDeprecationWarning: Since Chroma 0.4.x the manual persistence method is no longer supported as docs are automatically persisted.\n",
      "  warn_deprecated(\n"
     ]
    }
   ],
   "source": [
    "# split it into chunks\n",
    "text_splitter = CharacterTextSplitter(chunk_size=1000, chunk_overlap=5)\n",
    "docs = text_splitter.split_documents(docs)\n",
    "\n",
    "# create the open-source embedding function\n",
    "embedding_function = SentenceTransformerEmbeddings(model_name=\"all-MiniLM-L6-v2\")\n",
    "\n",
    "# load it into Chroma with a persistent directory\n",
    "db = Chroma.from_documents(docs, embedding_function, ids=None, collection_name=\"langchain-pdf\", persist_directory=\"./chroma_db/pdf\")\n",
    "db.persist()"
   ]
  },
  {
   "cell_type": "code",
   "execution_count": 69,
   "metadata": {},
   "outputs": [
    {
     "name": "stderr",
     "output_type": "stream",
     "text": [
      "c:\\Users\\srede\\OneDrive\\Desktop\\Projex\\file_mangt_sys\\venv\\Lib\\site-packages\\langchain_core\\_api\\deprecation.py:119: LangChainDeprecationWarning: The class `ChatOpenAI` was deprecated in LangChain 0.0.10 and will be removed in 0.3.0. An updated version of the class exists in the langchain-openai package and should be used instead. To use it run `pip install -U langchain-openai` and import as `from langchain_openai import ChatOpenAI`.\n",
      "  warn_deprecated(\n"
     ]
    }
   ],
   "source": [
    "llm = ChatOpenAI(model_name=\"gpt-3.5-turbo\", temperature=0.2)\n",
    "retriever=db.as_retriever()"
   ]
  },
  {
   "cell_type": "code",
   "execution_count": 70,
   "metadata": {},
   "outputs": [],
   "source": [
    "def format_docs(docs):\n",
    "    return \"\\n\\n\".join(doc.page_content for doc in docs)\n"
   ]
  },
  {
   "cell_type": "code",
   "execution_count": 71,
   "metadata": {},
   "outputs": [],
   "source": [
    "from langchain_core.prompts import PromptTemplate\n",
    "\n",
    "template = \"\"\"Use the following pieces of context to answer the question at the end.\n",
    "If you don't know the answer, just say that you don't know, don't try to make up an answer.\n",
    "Always say \"thanks for asking!\" at the end of the answer.\n",
    "You are a helpful data analyst that can help answer question about data.\n",
    "You critically analyze the data and provide insights into the data.\n",
    "You answer only questions from the data. You don't answer generic questions outside the document.\n",
    "You provide the answer in a bullet point format. You use chain of thought to answer questions.\n",
    "You make relevant recommendations based on the data. You don't summarize. \n",
    "You quote the figures as they are\n",
    "\n",
    "{context}\n",
    "\n",
    "Question: {question}\n",
    "\n",
    "Helpful Answer:\"\"\"\n",
    "custom_rag_prompt = PromptTemplate.from_template(template)\n",
    "\n",
    "rag_chain = (\n",
    "    {\"context\": retriever | format_docs, \"question\": RunnablePassthrough()}\n",
    "    | custom_rag_prompt\n",
    "    | llm\n",
    "    | StrOutputParser()\n",
    ")\n",
    "\n",
    "result = rag_chain.invoke(user_query)"
   ]
  },
  {
   "cell_type": "code",
   "execution_count": 72,
   "metadata": {},
   "outputs": [
    {
     "data": {
      "text/markdown": [
       "- Net sales for the first quarter of 2022 are expected to be between $112.0 billion and $117.0 billion, with a growth rate of 3% to 8% compared to the first quarter of 2021, anticipating an unfavorable impact of approximately 150 basis points from foreign exchange rates.\n",
       "- Operating income for the first quarter of 2022 is expected to be between $3.0 billion and $6.0 billion, compared to $8.9 billion in the first quarter of 2021, including lower depreciation expense due to increases in the estimated useful lives of servers and networking equipment.\n",
       "- The company's financial focus is on long-term, sustainable growth in free cash flows, driven by increasing operating income and efficiently managing accounts receivable, inventory, accounts payable, and cash capital expenditures.\n",
       "- Variability in inventory turnover over time is expected due to factors like product mix and sales mix, impacting the cash-generating operating cycle.\n",
       "\n",
       "Thanks for asking!"
      ],
      "text/plain": [
       "<IPython.core.display.Markdown object>"
      ]
     },
     "metadata": {},
     "output_type": "display_data"
    }
   ],
   "source": [
    "from IPython.display import Markdown\n",
    "# Display the result in a more readable Markdown format\n",
    "display(Markdown(result))"
   ]
  }
 ],
 "metadata": {
  "kernelspec": {
   "display_name": "venv",
   "language": "python",
   "name": "python3"
  },
  "language_info": {
   "codemirror_mode": {
    "name": "ipython",
    "version": 3
   },
   "file_extension": ".py",
   "mimetype": "text/x-python",
   "name": "python",
   "nbconvert_exporter": "python",
   "pygments_lexer": "ipython3",
   "version": "3.12.2"
  }
 },
 "nbformat": 4,
 "nbformat_minor": 2
}
